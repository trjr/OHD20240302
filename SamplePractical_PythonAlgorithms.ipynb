{
 "cells": [
  {
   "cell_type": "markdown",
   "metadata": {
    "toc": true
   },
   "source": [
    "<h1>Table of Contents<span class=\"tocSkip\"></span></h1>\n",
    "<div class=\"toc\"><ul class=\"toc-item\"><li><span><a href=\"#Divide-and-Conquer-practical----maxmin-problem\" data-toc-modified-id=\"Divide-and-Conquer-practical----maxmin-problem-1\">Divide and Conquer practical -- maxmin problem</a></span><ul class=\"toc-item\"><li><span><a href=\"#Maxmin-without-D&amp;C\" data-toc-modified-id=\"Maxmin-without-D&amp;C-1.1\">Maxmin without D&amp;C</a></span></li><li><span><a href=\"#Maxmin-with-D&amp;C\" data-toc-modified-id=\"Maxmin-with-D&amp;C-1.2\">Maxmin with D&amp;C</a></span></li></ul></li></ul></div>"
   ]
  },
  {
   "cell_type": "markdown",
   "metadata": {
    "id": "rdvwrQDF1rAp"
   },
   "source": [
    "# Divide and Conquer practical -- maxmin problem"
   ]
  },
  {
   "cell_type": "markdown",
   "metadata": {
    "id": "nsXyKwOV1seN"
   },
   "source": [
    "---\n",
    "Given a function to compute on $n$ inputs, the divide and conquer strategy suggests splitting the input to $k$ distinct subsets, yielding $k$ sub-problems. \n",
    "\n",
    "These **sub-problems** must be solved, then a method must be found to combine sub-solutions into solutions of the whole. \n",
    "\n",
    "Often the subproblems are of the same type as the original problem. \n",
    "\n",
    "If the sub-problems are still large, apply D&C to the sub-problem (use recursion). Smaller and smaller subproblems are produced until the problem is small enough, which can be solved without splitting."
   ]
  },
  {
   "cell_type": "markdown",
   "metadata": {
    "id": "JlxvFY95erRQ"
   },
   "source": [
    "---\n",
    "**Maxmin problem:** Find the minimum and maximum element from a given list of $n$ elements"
   ]
  },
  {
   "cell_type": "markdown",
   "metadata": {
    "id": "JI0eLftyhXC1"
   },
   "source": [
    "---\n",
    "\n",
    "## Maxmin without D&C"
   ]
  },
  {
   "cell_type": "markdown",
   "metadata": {
    "id": "w8K_VEumCH8p"
   },
   "source": [
    "**Your turn:** Find the max,min of the following lists:\n",
    "\n",
    "(1)  `[1, 3, 6, -7, -20, 30, 300, 1000]`\n",
    "\n",
    "(2)  `[8, 3, 4, 6, 100, 4, 2, 30, 65, 20]`\n",
    "\n",
    "(3)  `[4, 6, 2, 1, 7, 0, 12]`"
   ]
  },
  {
   "cell_type": "code",
   "execution_count": null,
   "metadata": {
    "colab": {
     "base_uri": "https://localhost:8080/"
    },
    "id": "sijcgLIEDaKH",
    "outputId": "1abc70ae-8932-4a0b-96d4-40bc01b0611f"
   },
   "outputs": [],
   "source": [
    "def MaxMin(A, n):   #Finding max and min without D&C\n",
    "    Minimum = A[0]    #Given a list of A(n), set Minimum, Maximum as the fist element\n",
    "    Maximum = A[0]\n",
    "    for i in range(n):\n",
    "        if A[i] > Maximum:       #comparing Maximum with A[i]\n",
    "            Maximum = A[i]\n",
    "        if A[i] < Minimum:       #comparing Mimimum with A[i]\n",
    "            Minimum = A[i]\n",
    "    return Maximum, Minimum\n",
    "\n",
    "A = ???\n",
    "print(A)\n",
    "\n",
    "n = len(A)\n",
    "Maximum, Minimum = MaxMin(A, n)\n",
    "\n",
    "print('Max and min without Divide and Conquer:')\n",
    "print(Maximum, Minimum)"
   ]
  },
  {
   "cell_type": "markdown",
   "metadata": {
    "id": "3Aqn8JuShQY0"
   },
   "source": [
    "**Your turn:** Explain the steps in maxmin without D&C"
   ]
  },
  {
   "cell_type": "markdown",
   "metadata": {
    "id": "vThUwQc5dnxm"
   },
   "source": [
    "---\n",
    "\n",
    "## Maxmin with D&C"
   ]
  },
  {
   "cell_type": "markdown",
   "metadata": {
    "id": "SjOrH22jePFE"
   },
   "source": [
    "Recursively divide the list into two sublists.\n",
    "  \n",
    "The max/min of result must be one of maxs and mins of the sublists which are combined.\n",
    "\n",
    "For illustration, given a list `[5, 7, 1, 4, 10, 6]`, the maxmin with D&C algorithm follows the steps as follows:"
   ]
  },
  {
   "cell_type": "markdown",
   "metadata": {
    "id": "onaUB-fCd5El"
   },
   "source": [
    "\n",
    "![Capture2.png](data:image/png;base64,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)"
   ]
  },
  {
   "cell_type": "markdown",
   "metadata": {
    "id": "aZxoxUYuEXnk"
   },
   "source": [
    "**Your turn:** Find the max,min of the following lists:\n",
    "\n",
    "(1)  `[1, 3, 6, -7, -20, 30, 300, 1000]`\n",
    "\n",
    "(2)  `[8, 3, 4, 6, 100, 4, 2, 30, 65, 20]`\n",
    "\n",
    "(3)  `[4, 6, 2, 1, 7, 0, 12]`"
   ]
  },
  {
   "cell_type": "code",
   "execution_count": null,
   "metadata": {
    "colab": {
     "base_uri": "https://localhost:8080/"
    },
    "id": "SToDqEmoAqRU",
    "outputId": "a59ca196-611f-4e18-c383-f04180c5498d"
   },
   "outputs": [],
   "source": [
    "def DCMaxMin(A, n, i, j): #Finding max and min with D&C\n",
    "#   A is list of length n\n",
    "# i, j are parameters set as 0 ≤ ⅈ ≤ 𝒋 ≤𝒏;\n",
    "# The algorithm finds the maximum and minimum of A[i:j]\n",
    "\n",
    "    if i == j:               # If A has only one element; direct solve.\n",
    "        fmax = A[i]\n",
    "        fmin = A[i]\n",
    "    elif i == j - 1:         # If A has two elements; direct solve.\n",
    "        if A[i] > A[j]:\n",
    "            fmin = A[j]\n",
    "            fmax = A[i]\n",
    "        else:\n",
    "            fmin = A[i]\n",
    "            fmax = A[j]\n",
    "    else:\n",
    "        mid =(i+j)//2      # A has more than two elements; divide into two sublists, mid is middle point.\n",
    "        gmax, gmin = DCMaxMin(A, n, i, mid)          #recursive call to first sublist\n",
    "        hmax, hmin = DCMaxMin(A, n, mid+1, j)        #recursive call to second sublist\n",
    "        fmax = max(gmax, hmax)                       #combine:  maximum is max of maximums\n",
    "        fmin = min(gmin, hmin)                       #combine:  minimum of min of minimums\n",
    "    return  fmax, fmin\n",
    "\n",
    "\n",
    "A = ???\n",
    "print(A)\n",
    "\n",
    "n=len(A)\n",
    "fmax, fmin = DCMaxMin(A, n, 0, n-1)\n",
    "\n",
    "print('Max and min with Divide and Conquer:')\n",
    "print(fmax, fmin)\n"
   ]
  },
  {
   "cell_type": "markdown",
   "metadata": {
    "id": "jU52FddghcZ2"
   },
   "source": [
    "---\n",
    "\n",
    "**Your turn**: Using a pen on paper, trace the steps of maxmin D&C for the list\n",
    "\n",
    "`[8, 3, 4, 6, 100, 4, 2, 30, 65, 20]`"
   ]
  },
  {
   "cell_type": "markdown",
   "metadata": {},
   "source": [
    "---\n",
    "**More time?  Try to fix the code below:**"
   ]
  },
  {
   "cell_type": "code",
   "execution_count": null,
   "metadata": {
    "ExecuteTime": {
     "end_time": "2024-02-19T17:13:34.337188Z",
     "start_time": "2024-02-19T17:13:34.320160Z"
    }
   },
   "outputs": [],
   "source": [
    "def MaxMin(A, n):   #Finding max and min without D&C\n",
    "    Min =  ...    #Given a list of A(n), set Min, Max  as the fist element\n",
    "    Max = ...\n",
    "    for i in range(n):\n",
    "        if A[i] > ...       #comparing Max  with A[i]\n",
    "            Max = ...\n",
    "        if A[i] <  ...       #comparing Min  with A[i]\n",
    "            Min = ...\n",
    "    return Max, Min\n",
    "\n",
    "A = ???\n",
    "print(A)\n",
    "\n",
    "n=len(A)\n",
    "Maximum, Minimum = MaxMin(A, n)\n",
    "\n",
    "print('Max and min without Divide and Conquer:')\n",
    "print(Maximum, Minimum)"
   ]
  }
 ],
 "metadata": {
  "colab": {
   "provenance": []
  },
  "kernelspec": {
   "display_name": "Python 3 (ipykernel)",
   "language": "python",
   "name": "python3"
  },
  "language_info": {
   "codemirror_mode": {
    "name": "ipython",
    "version": 3
   },
   "file_extension": ".py",
   "mimetype": "text/x-python",
   "name": "python",
   "nbconvert_exporter": "python",
   "pygments_lexer": "ipython3",
   "version": "3.10.9"
  },
  "toc": {
   "base_numbering": 1,
   "nav_menu": {},
   "number_sections": false,
   "sideBar": true,
   "skip_h1_title": false,
   "title_cell": "Table of Contents",
   "title_sidebar": "Contents",
   "toc_cell": true,
   "toc_position": {},
   "toc_section_display": true,
   "toc_window_display": false
  },
  "varInspector": {
   "cols": {
    "lenName": 16,
    "lenType": 16,
    "lenVar": 40
   },
   "kernels_config": {
    "python": {
     "delete_cmd_postfix": "",
     "delete_cmd_prefix": "del ",
     "library": "var_list.py",
     "varRefreshCmd": "print(var_dic_list())"
    },
    "r": {
     "delete_cmd_postfix": ") ",
     "delete_cmd_prefix": "rm(",
     "library": "var_list.r",
     "varRefreshCmd": "cat(var_dic_list()) "
    }
   },
   "types_to_exclude": [
    "module",
    "function",
    "builtin_function_or_method",
    "instance",
    "_Feature"
   ],
   "window_display": false
  }
 },
 "nbformat": 4,
 "nbformat_minor": 1
}
